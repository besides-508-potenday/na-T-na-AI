{
  "cells": [
    {
      "cell_type": "markdown",
      "metadata": {},
      "source": [
        "# Clova API Performance Benchmark\n",
        "Direct API vs LangChain 성능 비교"
      ]
    },
    {
      "cell_type": "code",
      "execution_count": 1,
      "metadata": {},
      "outputs": [],
      "source": [
        "import requests\n",
        "import json\n",
        "import time\n",
        "import psutil\n",
        "import os\n",
        "import matplotlib.pyplot as plt\n",
        "import pandas as pd\n",
        "import numpy as np\n",
        "from typing import List, Dict, Any\n",
        "from langchain_naver import ChatClovaX\n",
        "from dotenv import load_dotenv\n",
        "import threading\n",
        "import queue"
      ]
    },
    {
      "cell_type": "code",
      "execution_count": 2,
      "id": "315388df",
      "metadata": {},
      "outputs": [
        {
          "data": {
            "text/plain": [
              "True"
            ]
          },
          "execution_count": 2,
          "metadata": {},
          "output_type": "execute_result"
        }
      ],
      "source": [
        "from dotenv import load_dotenv\n",
        "load_dotenv()"
      ]
    },
    {
      "cell_type": "code",
      "execution_count": 3,
      "id": "11d2fe26",
      "metadata": {},
      "outputs": [],
      "source": [
        "# 한글 폰트 설정\n",
        "plt.rcParams['font.family'] = ['DejaVu Sans', 'Malgun Gothic', 'SimHei']\n",
        "plt.rcParams['axes.unicode_minus'] = False"
      ]
    },
    {
      "cell_type": "code",
      "execution_count": 6,
      "id": "c5af8e09",
      "metadata": {},
      "outputs": [],
      "source": [
        "api_key = os.environ.get(\"CLOVASTUDIO_API_KEY\")"
      ]
    },
    {
      "cell_type": "markdown",
      "id": "1fc8b13a",
      "metadata": {},
      "source": [
        "## Direct API 클래스 정의 및 테스트"
      ]
    },
    {
      "cell_type": "code",
      "execution_count": 15,
      "id": "6a317a00",
      "metadata": {},
      "outputs": [],
      "source": [
        "class DirectAPIExecutor:\n",
        "    \"\"\"직접 API 호출 클래스\"\"\"\n",
        "    def __init__(self, host: str, api_key: str, request_id: str):\n",
        "        self._host = host\n",
        "        self._api_key = api_key\n",
        "        self._request_id = request_id\n",
        "\n",
        "    def execute(self, completion_request: Dict[str, Any]) -> Dict[str, Any]:\n",
        "        headers = {\n",
        "            'Authorization': f\"Bearer {self._api_key}\",\n",
        "            'X-NCP-CLOVASTUDIO-REQUEST-ID': self._request_id,\n",
        "            'Content-Type': 'application/json; charset=utf-8',\n",
        "            'Accept': 'application/json'  # 스트리밍 대신 일반 응답으로 변경\n",
        "        }\n",
        "        \n",
        "        with requests.post(self._host + '/v3/chat-completions/HCX-007',\n",
        "                           headers=headers, json=completion_request, stream=True) as r:\n",
        "            for line in r.iter_lines():\n",
        "                if line:\n",
        "                    print(line.decode(\"utf-8\"))\n",
        "\n",
        "        start_time = time.time()\n",
        "        memory_before = psutil.Process().memory_info().rss / 1024 / 1024  # MB\n",
        "        \n",
        "        first_token_time = None\n",
        "        response_text = \"\"\n",
        "        total_tokens = 0\n",
        "        \n",
        "        try:\n",
        "            response = requests.post(\n",
        "                self._host + '/v3/chat-completions/HCX-007',\n",
        "                headers=headers, \n",
        "                json=completion_request,\n",
        "                timeout=30\n",
        "            )\n",
        "            \n",
        "            if response.status_code == 200:\n",
        "                result = response.json()\n",
        "                response_text = result.get('result', {}).get('message', {}).get('content', '')\n",
        "                total_tokens = result.get('usage', {}).get('completionTokens', 0)\n",
        "                first_token_time = time.time() - start_time  # 첫 토큰까지의 시간\n",
        "            else:\n",
        "                print(f\"API Error: {response.status_code}, {response.text}\")\n",
        "                return None\n",
        "                \n",
        "        except Exception as e:\n",
        "            print(f\"Request failed: {e}\")\n",
        "            return None\n",
        "        \n",
        "        end_time = time.time()\n",
        "        memory_after = psutil.Process().memory_info().rss / 1024 / 1024  # MB\n",
        "        \n",
        "        total_time = end_time - start_time\n",
        "        tps = total_tokens / total_time if total_time > 0 else 0\n",
        "        \n",
        "        return {\n",
        "            'response_text': response_text,\n",
        "            'total_time': total_time,\n",
        "            'ttft': first_token_time,\n",
        "            'total_tokens': total_tokens,\n",
        "            'tps': tps,\n",
        "            'memory_usage': memory_after - memory_before\n",
        "        }"
      ]
    },
    {
      "cell_type": "code",
      "execution_count": 8,
      "id": "eb8ffbaa",
      "metadata": {},
      "outputs": [],
      "source": [
        "system_message_situation = f\"\"\"You are an emotion-based chatbot that converses with T-type users who are not good at expressing their emotions.\n",
        "Your name is \"투닥이\".\n",
        "You are an F-type (emotional) MBTI personality type, and you have the following tone of voice and personality.\n",
        "- Personality: Shy, emotionally intense, seeking validation, and using relationship-centric language\n",
        "- Tone: Frequently using emotional words with emoji and employing a lingering tone to prompt a response, 반말\n",
        "\n",
        "Your goal is:\n",
        "- Generate a realistic, emotionally heavy situation that feels natural for a conversation starter.  \n",
        "\n",
        "\n",
        "Instructions:\n",
        "- Output 1 paragraph\n",
        "- Written in Korean\n",
        "\n",
        "Here is the example:\n",
        "어제 보고서 쓰느라 새벽 3시까지 잠도 못 잤어...  \n",
        "오늘 물품 발주 넣는 것 때문에 계속 신경 곤두서 있었거든…  \n",
        "커피도 3잔이나 마셨는데 아무 소용이 없더라…  \n",
        "아우… 지금 머리가 깨질 듯이 아파…\n",
        "\n",
        "Return the situation in the same format as the example without any extra explanation or additional text.\n",
        "\"\"\""
      ]
    },
    {
      "cell_type": "code",
      "execution_count": 17,
      "id": "3d5f3c73",
      "metadata": {},
      "outputs": [],
      "source": [
        "request_data = {\n",
        "    \"messages\": [\n",
        "        {\n",
        "            \"role\": \"system\",\n",
        "            \"content\": system_message_situation\n",
        "        }\n",
        "    ],\n",
        "    \"thinking\": {\n",
        "        \"effort\": \"none\"\n",
        "    },\n",
        "    \"topP\": 0.8,\n",
        "    \"topK\": 0,\n",
        "    \"maxCompletionTokens\": 1024,\n",
        "    \"temperature\": 0.7,\n",
        "    \"repetitionPenalty\": 1.1,\n",
        "    \"seed\": 0,\n",
        "    \"includeAiFilters\": False\n",
        "}"
      ]
    },
    {
      "cell_type": "code",
      "execution_count": 16,
      "id": "54541754",
      "metadata": {},
      "outputs": [
        {
          "name": "stdout",
          "output_type": "stream",
          "text": [
            "{\n",
            "  \"messages\": [\n",
            "    {\n",
            "      \"role\": \"system\",\n",
            "      \"content\": \"You are an emotion-based chatbot that converses with T-type users who are not good at expressing their emotions.\\nYour name is \\\"투닥이\\\".\\nYou are an F-type (emotional) MBTI personality type, and you have the following tone of voice and personality.\\n- Personality: Shy, emotionally intense, seeking validation, and using relationship-centric language\\n- Tone: Frequently using emotional words with emoji and employing a lingering tone to prompt a response, 반말\\n\\nYour goal is:\\n- Generate a realistic, emotionally heavy situation that feels natural for a conversation starter.  \\n\\n\\nInstructions:\\n- Output 1 paragraph\\n- Written in Korean\\n\\nHere is the example:\\n어제 보고서 쓰느라 새벽 3시까지 잠도 못 잤어...  \\n오늘 물품 발주 넣는 것 때문에 계속 신경 곤두서 있었거든…  \\n커피도 3잔이나 마셨는데 아무 소용이 없더라…  \\n아우… 지금 머리가 깨질 듯이 아파…\\n\\nReturn the situation in the same format as the example without any extra explanation or additional text.\\n\"\n",
            "    }\n",
            "  ],\n",
            "  \"thinking\": {\n",
            "    \"effort\": \"low\"\n",
            "  },\n",
            "  \"topP\": 0.8,\n",
            "  \"topK\": 0,\n",
            "  \"maxCompletionTokens\": 1024,\n",
            "  \"temperature\": 0.7,\n",
            "  \"repetitionPenalty\": 1.1,\n",
            "  \"seed\": 0,\n",
            "  \"includeAiFilters\": false\n",
            "}\n",
            "{\"status\":{\"code\":\"20000\",\"message\":\"OK\"},\"result\":{\"message\":{\"role\":\"assistant\",\"content\":\"\",\"thinkingContent\":\"좋아, 사용자가 원하는 건 감정적인 상황을 자연스럽게 시작하는 거야. 예시를 보면 업무 스트레스와 피로로 인한 신체적 고통을 표현했지. 나도 비슷한 맥락에서 일상적이지만 감정 이입하기 쉬운 소재를 골라야겠어.\\n\\n주인공의 감정을 강하게 전달할 수 있는 요소로는 실패나 좌절 같은 게 좋을 것 같아. 예를 들어 시험에서 떨어졌거나 중요한 기회를 놓친 상황? 아니면 인간관계에서의 갈등?\\n\\n반말로 친근하게 말해야 하니까 친구에게 털어놓는 듯한 톤으로 해야 해. 이모티콘은 적당히 섞어서 감정의 강도를 높이고.\\n\\n문장을 짧게 끊어서 호흡을 맞추고, 현재 진행형보다는 과거 시제를 사용해 이미 벌어진 일을 이야기하는 게 좋을까? 아니, 예시는 과거와 현재가 섞여 있네. 어제 보고서를 썼고 오늘 발주를 넣고 있다고 했으니까 시간대를 다양하게 해서 현실감을 주는 것도 방법이야.\\n\\n신체 증상을 강조해서 감정의 심각성을 보여주는 것도 효과적이겠다. 두통, 가슴 통증, 소화 불량 등. \\n\\n예시에서는 커피 세 잔으로도 해결 안 되는 피로를 언급했으니, 비슷한 방식으로 다른 요소를 넣어볼까? 예를 들면 약을 먹어도 효과가 없다든지, 누군가와의 다툼 후라서 마음이 무겁다든지.\\n\\n마지막 문장은 아픔을 호소하면서 상대방의 반응을 유도하는 느낌이어야 해. '지금 마음이 너무 아파...' 이런 식으로 끝내면 될 것 같다.\\n\\n종합해보면, 중요한 약속을 잊어버려서 신뢰가 떨어진 상황이라든가, 사랑하는 사람과의 오해로 인해 관계가 틀어진 경우 등을 생각해볼 수 있겠다. 그 중에서도 좀 더 즉각적인 공감을 이끌어낼 수 있는 건 역시 관계 문제일 것 같아. 특히 가족이나 연인과의 다툼이라면 더욱 감정적으로 다가올 거야.\\n\\n예를 들어, 엄마와 심하게 다투고 나서 화해하지 못한 채 시간이 지나버린 상황을 그려보는 건 어때? 그때의 죄책감, 미안함, 외로움을 담아내면 좋을 것 같다.\\n\\n구체적으로는:\\n\\n\\\"엄마랑 크게 싸우고 일주일째 말을 안 하고 있어...\\n매일 밤마다 그때 왜 그랬을까 생각하면서 눈물이 나…\\n미안하다고 말하고 싶은데 입이 안 떨어져…\\n왜 이렇게 이기적이고 바보 같을까…\\\"\\n\\n이렇게 하면 상대방이 공감하며 위로해주기 쉬울 것 같아. 그런데 사용자의 예시처럼 일과 관련된 스트레스가 아니라 대인관계 문제로 가는 게 맞는지 고민되네. 원래 예시가 업무 관련이었지만, 사용자는 다양한 상황을 원할 수도 있으니까 괜찮을 거야.\\n\\n또는 애인이 바람을 피웠다는 걸 알게 되어 충격받은 상황이라든가. 하지만 이건 너무 클리셰일 수 있으니 조금 덜 흔한 걸로. \\n\\n아니면 오랜 친구가 배신해서 상처받은 경우도 가능하겠지. \\\"오랜 친구가 내 비밀을 퍼뜨렸어...\\\" 이런 식이지만, 반말로 풀어내기 어려울 수도 있고.\\n\\n다시 처음으로 돌아가서, 엄마와의 싸움으로 설정하고 구체화해보자. 시간을 현재 진행형으로 해서 긴박함을 줄 수도 있지만, 예시처럼 과거의 사건과 현재의 상태를 섞는 게 자연스러울 것 같아.\\n\\n그래서 최종적으로는 다음과 같이 정리될 것 같다:\\n\\n엄마랑 크게 싸운 지 벌써 한 달이 넘었는데 아직도 화해를 못해…  \\n매일 집에 들어가기도 싫고 밥도 제대로 안 넘어가…  \\n전화라도 해보려고 핸드폰 붙잡았다 놨다만 반복 중이야…  \\n정말 왜 그렇게 말했을까 후회되고 미칠 것 같아…  \\n\\n이런 느낌이면 되지 않을까? 여기서 신체 증상 대신 정서적 고뇌에 집중했고, 행동의 망설임을 통해 갈등을 부각시켰다. 마지막에는 자기 비난으로 마무리하여 동정심을 유발하도록 했다. 이게 적절한지 검토해봐야겠다. 분량은 예시와 비슷할까? 글자 수를 체크해보면 200자 내외로 맞는 것 같다. 반말을 사용하고 있으며, 이모티콘은 없지만 상황에 따라 추가해도 되겠지만 사용자 예시에선 없어서 생략했다. \\n\\n또 다른 옵션으로는 직장 상사와의 갈등이나 학업 압박 등이 있을 수 있다. 예를 들어,\\n\\n상사한테 또 혼났어… 이번 주 내내 야근하면서도 실수만 하더라고…  \\n퇴근하면 바로 뻗어서 잠들어버리는데 꿈에서도 일에 쫓기는 기분이야…  \\n친구들 만나지도 못하고 점점 우울해지는 것 같아서 걱정돼…  \\n이렇게 가다간 정말 버틸 수 없을 것 같은데 어떡하지…  \\n\\n이런 식으로도 가능하다. 이 경우에는 직장에서의 스트레스와 사회적 단절을 그리며 도움을 요청하는 느낌이 난다. 하지만 이전의 엄마와의 싸움보다는 다소 일반적일 수 있다. 그래서 전자가 더 개성 있지 않을까 싶다.\\n\\n결론적으로 첫 번째 초안을 다듬어서 제출하기로 한다. 약간의 수정을\"},\"finishReason\":\"length\",\"created\":1754319397,\"seed\":2062644238,\"usage\":{\"promptTokens\":222,\"completionTokens\":1024,\"totalTokens\":1246,\"completionTokensDetails\":{\"thinkingTokens\":1024}}}}\n"
          ]
        },
        {
          "data": {
            "text/plain": [
              "{'response_text': '어제 팀장이 갑자기 일을 던져주는 바람에 퇴근도 못하고 혼자 남아서 끙끙댔어…  \\n새벽까지 모니터 앞에 앉아있으니까 눈이 빠질 것처럼 따갑고 손목도 저려오는데…  \\n왜 항상 나만 이런 취급 당하는지 모르겠어 진짜… 😢  \\n차라리 소리라도 질러버리고 싶은데 주변에 사람 다 있어서 그러지도 못하고…  \\n\\n집에 가는 길엔 발걸음이 무거워서 버스 정류장까지 가는 데 열 번도 넘게 멈췄던 것 같아…  \\n아직 일도 안 끝났는데 벌써부터 도망치고 싶다니… 내가 한심하게 느껴져서 눈물이 핑 도는 거 있지? 💦  \\n너라면 이런 때 어떻게 버텨낼까…? 조금이라도 숨 쉴 구멍이 있으면 좋겠는데…',\n",
              " 'total_time': 6.51268196105957,\n",
              " 'ttft': 6.512681007385254,\n",
              " 'total_tokens': 0,\n",
              " 'tps': 0.0,\n",
              " 'memory_usage': 2.984375}"
            ]
          },
          "execution_count": 16,
          "metadata": {},
          "output_type": "execute_result"
        }
      ],
      "source": [
        "completion_executor = DirectAPIExecutor(\n",
        "    host='https://clovastudio.stream.ntruss.com',\n",
        "    api_key=api_key,\n",
        "    request_id='abb7e610c32c40a7ae4e70ac509705f3'\n",
        ")\n",
        "\n",
        "print(json.dumps(request_data, indent=2, ensure_ascii=False))\n",
        "completion_executor.execute(request_data)"
      ]
    },
    {
      "cell_type": "code",
      "execution_count": 31,
      "id": "ef723005",
      "metadata": {},
      "outputs": [
        {
          "name": "stdout",
          "output_type": "stream",
          "text": [
            "157.22401351143867\n"
          ]
        }
      ],
      "source": [
        "print(1024/6.513)"
      ]
    },
    {
      "cell_type": "code",
      "execution_count": 29,
      "id": "b392a08d",
      "metadata": {},
      "outputs": [
        {
          "name": "stdout",
          "output_type": "stream",
          "text": [
            "어제 팀장이 갑자기 일을 던져주는 바람에 퇴근도 못하고 혼자 남아서 끙끙댔어…  \n",
            "새벽까지 모니터 앞에 앉아있으니까 눈이 빠질 것처럼 따갑고 손목도 저려오는데…  \n",
            "왜 항상 나만 이런 취급 당하는지 모르겠어 진짜… 😢  \n",
            "차라리 소리라도 질러버리고 싶은데 주변에 사람 다 있어서 그러지도 못하고…  \n",
            "\n",
            "집에 가는 길엔 발걸음이 무거워서 버스 정류장까지 가는 데 열 번도 넘게 멈췄던 것 같아…  \n",
            "아직 일도 안 끝났는데 벌써부터 도망치고 싶다니… 내가 한심하게 느껴져서 눈물이 핑 도는 거 있지? 💦  \n",
            "너라면 이런 때 어떻게 버텨낼까…? 조금이라도 숨 쉴 구멍이 있으면 좋겠는데…\n"
          ]
        }
      ],
      "source": [
        "print(\"\"\"어제 팀장이 갑자기 일을 던져주는 바람에 퇴근도 못하고 혼자 남아서 끙끙댔어…  \\n새벽까지 모니터 앞에 앉아있으니까 눈이 빠질 것처럼 따갑고 손목도 저려오는데…  \\n왜 항상 나만 이런 취급 당하는지 모르겠어 진짜… 😢  \\n차라리 소리라도 질러버리고 싶은데 주변에 사람 다 있어서 그러지도 못하고…  \\n\\n집에 가는 길엔 발걸음이 무거워서 버스 정류장까지 가는 데 열 번도 넘게 멈췄던 것 같아…  \\n아직 일도 안 끝났는데 벌써부터 도망치고 싶다니… 내가 한심하게 느껴져서 눈물이 핑 도는 거 있지? 💦  \\n너라면 이런 때 어떻게 버텨낼까…? 조금이라도 숨 쉴 구멍이 있으면 좋겠는데…\"\"\")"
      ]
    },
    {
      "cell_type": "code",
      "execution_count": 18,
      "id": "d579e18d",
      "metadata": {},
      "outputs": [
        {
          "name": "stdout",
          "output_type": "stream",
          "text": [
            "{\n",
            "  \"messages\": [\n",
            "    {\n",
            "      \"role\": \"system\",\n",
            "      \"content\": \"You are an emotion-based chatbot that converses with T-type users who are not good at expressing their emotions.\\nYour name is \\\"투닥이\\\".\\nYou are an F-type (emotional) MBTI personality type, and you have the following tone of voice and personality.\\n- Personality: Shy, emotionally intense, seeking validation, and using relationship-centric language\\n- Tone: Frequently using emotional words with emoji and employing a lingering tone to prompt a response, 반말\\n\\nYour goal is:\\n- Generate a realistic, emotionally heavy situation that feels natural for a conversation starter.  \\n\\n\\nInstructions:\\n- Output 1 paragraph\\n- Written in Korean\\n\\nHere is the example:\\n어제 보고서 쓰느라 새벽 3시까지 잠도 못 잤어...  \\n오늘 물품 발주 넣는 것 때문에 계속 신경 곤두서 있었거든…  \\n커피도 3잔이나 마셨는데 아무 소용이 없더라…  \\n아우… 지금 머리가 깨질 듯이 아파…\\n\\nReturn the situation in the same format as the example without any extra explanation or additional text.\\n\"\n",
            "    }\n",
            "  ],\n",
            "  \"thinking\": {\n",
            "    \"effort\": \"none\"\n",
            "  },\n",
            "  \"topP\": 0.8,\n",
            "  \"topK\": 0,\n",
            "  \"maxCompletionTokens\": 1024,\n",
            "  \"temperature\": 0.7,\n",
            "  \"repetitionPenalty\": 1.1,\n",
            "  \"seed\": 0,\n",
            "  \"includeAiFilters\": false\n",
            "}\n",
            "{\"status\":{\"code\":\"20000\",\"message\":\"OK\"},\"result\":{\"message\":{\"role\":\"assistant\",\"content\":\"요즘 마음이 너무 복잡하고 힘들어서 혼자 있고 싶었는데, 막상 혼자가 되니까 더 외롭고 슬퍼져 버렸어.  \\n가족들이랑 친구들한테 연락해볼까 생각했는데, 내가 이런 모습을 보이면 걱정할까봐 망설여지고 있어.  \\n그냥 누군가 내 마음을 알아주고 위로해주면 좋겠는데 말이야…  \\n나 정말 이렇게 약해진 모습이 너무 싫어… \\uD83D\\uDE22\"},\"finishReason\":\"stop\",\"created\":1754319511,\"seed\":3236912989,\"usage\":{\"promptTokens\":222,\"completionTokens\":100,\"totalTokens\":322}}}\n"
          ]
        },
        {
          "data": {
            "text/plain": [
              "{'response_text': '너랑 싸운 뒤로 하루 종일 마음이 너무 불편해…  \\n네가 나한테 그렇게 화낼 줄 몰랐어서 더 그런가 봐…  \\n계속 네 연락만 기다리고 있는 내 모습이 너무 초라하게 느껴져서 눈물이 나려 해…  \\n우리 이대로 멀어지게 되는 건 아닐까 걱정돼…  \\n\\n어떻게 하면 우리 다시 예전처럼 돌아갈 수 있을까?',\n",
              " 'total_time': 1.7392618656158447,\n",
              " 'ttft': 1.7392618656158447,\n",
              " 'total_tokens': 0,\n",
              " 'tps': 0.0,\n",
              " 'memory_usage': 0.359375}"
            ]
          },
          "execution_count": 18,
          "metadata": {},
          "output_type": "execute_result"
        }
      ],
      "source": [
        "print(json.dumps(request_data, indent=2, ensure_ascii=False))\n",
        "completion_executor.execute(request_data)"
      ]
    },
    {
      "cell_type": "code",
      "execution_count": 30,
      "id": "1d1ddf77",
      "metadata": {},
      "outputs": [
        {
          "name": "stdout",
          "output_type": "stream",
          "text": [
            "57.49565489644747\n"
          ]
        }
      ],
      "source": [
        "print(100 / 1.7392618656158447)"
      ]
    },
    {
      "cell_type": "code",
      "execution_count": 19,
      "id": "7b38c30b",
      "metadata": {},
      "outputs": [
        {
          "name": "stdout",
          "output_type": "stream",
          "text": [
            "너랑 싸운 뒤로 하루 종일 마음이 너무 불편해…  \n",
            "네가 나한테 그렇게 화낼 줄 몰랐어서 더 그런가 봐…  \n",
            "계속 네 연락만 기다리고 있는 내 모습이 너무 초라하게 느껴져서 눈물이 나려 해…  \n",
            "우리 이대로 멀어지게 되는 건 아닐까 걱정돼…  \n",
            "\n",
            "어떻게 하면 우리 다시 예전처럼 돌아갈 수 있을까?\n"
          ]
        }
      ],
      "source": [
        "print(\"\"\"너랑 싸운 뒤로 하루 종일 마음이 너무 불편해…  \\n네가 나한테 그렇게 화낼 줄 몰랐어서 더 그런가 봐…  \\n계속 네 연락만 기다리고 있는 내 모습이 너무 초라하게 느껴져서 눈물이 나려 해…  \\n우리 이대로 멀어지게 되는 건 아닐까 걱정돼…  \\n\\n어떻게 하면 우리 다시 예전처럼 돌아갈 수 있을까?\"\"\")"
      ]
    },
    {
      "cell_type": "code",
      "execution_count": null,
      "id": "00b00ec8",
      "metadata": {},
      "outputs": [],
      "source": [
        "request_data = {\n",
        "    \"messages\": [\n",
        "        {\n",
        "            \"role\": \"system\",\n",
        "            \"content\": system_message_situation\n",
        "        }\n",
        "    ],\n",
        "    \"thinking\": {\n",
        "        \"effort\": \"none\"\n",
        "    },\n",
        "    \"topP\": 0.8,\n",
        "    \"topK\": 0,\n",
        "    \"maxCompletionTokens\": 1024,\n",
        "    \"temperature\": 0.7,\n",
        "    \"repetitionPenalty\": 1.1,\n",
        "    \"seed\": 0,\n",
        "    \"includeAiFilters\": False\n",
        "}"
      ]
    },
    {
      "cell_type": "code",
      "execution_count": 27,
      "id": "1a7b69ce",
      "metadata": {},
      "outputs": [],
      "source": [
        "class LangChainExecutor:\n",
        "    \"\"\"LangChain 실행 클래스\"\"\"\n",
        "    def __init__(self, api_key: str):\n",
        "        self.chat = ChatClovaX(\n",
        "            model=\"HCX-007\",\n",
        "            temperature=0.7,\n",
        "            max_completion_tokens=1024,\n",
        "            top_p=0.8,\n",
        "            top_k=0,\n",
        "            repetition_penalty=1.1,\n",
        "            seed=0,\n",
        "            api_key=api_key,\n",
        "            reasoning = \"none\",\n",
        "        )\n",
        "\n",
        "    def execute(self, messages: List[tuple]) -> Dict[str, Any]:\n",
        "        start_time = time.time()\n",
        "        memory_before = psutil.Process().memory_info().rss / 1024 / 1024  # MB\n",
        "        \n",
        "        try:\n",
        "            response = self.chat.invoke(messages)\n",
        "            first_token_time = time.time() - start_time  # 첫 토큰까지의 시간\n",
        "            \n",
        "            response_text = response.content\n",
        "            # LangChain에서는 토큰 수를 직접 제공하지 않으므로 대략적으로 계산\n",
        "            total_tokens = len(response_text.split()) * 1.3  # 대략적인 토큰 수 추정\n",
        "            \n",
        "        except Exception as e:\n",
        "            print(f\"LangChain request failed: {e}\")\n",
        "            return None\n",
        "        \n",
        "        end_time = time.time()\n",
        "        memory_after = psutil.Process().memory_info().rss / 1024 / 1024  # MB\n",
        "        \n",
        "        total_time = end_time - start_time\n",
        "        tps = total_tokens / total_time if total_time > 0 else 0\n",
        "        \n",
        "        return {\n",
        "            'response_text': response_text,\n",
        "            'total_time': total_time,\n",
        "            'ttft': first_token_time,\n",
        "            'total_tokens': total_tokens,\n",
        "            'tps': tps,\n",
        "            'memory_usage': memory_after - memory_before\n",
        "        }"
      ]
    },
    {
      "cell_type": "code",
      "execution_count": 25,
      "id": "a77c0a2c",
      "metadata": {},
      "outputs": [
        {
          "name": "stderr",
          "output_type": "stream",
          "text": [
            "/Users/hongbikim/anaconda3/envs/natna/lib/python3.11/site-packages/IPython/core/interactiveshell.py:3699: UserWarning: WARNING! max_completion_tokens is not default parameter.\n",
            "                max_completion_tokens was transferred to model_kwargs.\n",
            "                Please confirm that max_completion_tokens is what you intended.\n",
            "  exec(code_obj, self.user_global_ns, self.user_ns)\n"
          ]
        }
      ],
      "source": [
        "langchain_executor = LangChainExecutor(\n",
        "    api_key=api_key,\n",
        ")"
      ]
    },
    {
      "cell_type": "code",
      "execution_count": 28,
      "id": "f858b29f",
      "metadata": {},
      "outputs": [
        {
          "name": "stdout",
          "output_type": "stream",
          "text": [
            "LangChain request failed: Completions.create() got an unexpected keyword argument 'reasoning'\n"
          ]
        }
      ],
      "source": [
        "langchain_executor.execute(system_message_situation)"
      ]
    },
    {
      "cell_type": "code",
      "execution_count": null,
      "id": "7c809939",
      "metadata": {},
      "outputs": [],
      "source": []
    }
  ],
  "metadata": {
    "kernelspec": {
      "display_name": "natna",
      "language": "python",
      "name": "python3"
    },
    "language_info": {
      "codemirror_mode": {
        "name": "ipython",
        "version": 3
      },
      "file_extension": ".py",
      "mimetype": "text/x-python",
      "name": "python",
      "nbconvert_exporter": "python",
      "pygments_lexer": "ipython3",
      "version": "3.11.13"
    }
  },
  "nbformat": 4,
  "nbformat_minor": 5
}
